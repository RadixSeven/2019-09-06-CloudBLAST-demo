{
  "cells": [
    {
      "cell_type": "markdown",
      "metadata": {},
      "source": [
        "# Find HBA in nt\n",
        "This notebook shows how to use Pandas/Dataframes to find the HBA1 gene in nucleotide sequences."
      ]
    },
    {
      "cell_type": "markdown",
      "metadata": {},
      "source": [
        "## Installation\n",
        "First, install the the API library into your virtual environment:"
      ]
    },
    {
      "cell_type": "code",
      "execution_count": null,
      "metadata": {},
      "outputs": [],
      "source": [
        "%pip install --quiet ncbi-cloudblast-api"
      ]
    },
    {
      "cell_type": "markdown",
      "metadata": {},
      "source": [
        "For this demo, you also need to install `pandas` and `matplotlib`:"
      ]
    },
    {
      "cell_type": "code",
      "execution_count": null,
      "metadata": {},
      "outputs": [],
      "source": [
        "%pip install --quiet pandas==0.24.2 matplotlib"
      ]
    },
    {
      "cell_type": "markdown",
      "metadata": {},
      "source": [
        "We also need to enable matplotlib for notebook"
      ]
    },
    {
      "cell_type": "code",
      "execution_count": null,
      "metadata": {},
      "outputs": [],
      "source": [
        "%matplotlib inline"
      ]
    },
    {
      "cell_type": "code",
      "execution_count": null,
      "metadata": {},
      "outputs": [],
      "source": [
        "import matplotlib.pyplot as plt\n",
        "\n",
        "plt.rcParams[\"figure.figsize\"] = (20,10)"
      ]
    },
    {
      "cell_type": "markdown",
      "metadata": {},
      "source": [
        "## Before you start\n",
        "To use this libray, you must provide the address for a CloudBlast API service endpoint:"
      ]
    },
    {
      "cell_type": "code",
      "execution_count": null,
      "metadata": {},
      "outputs": [],
      "source": [
        "API_ADDRESS = '35.221.15.226:5000'"
      ]
    },
    {
      "cell_type": "markdown",
      "metadata": {},
      "source": [
        "## Perform a Blast Search"
      ]
    },
    {
      "cell_type": "code",
      "execution_count": null,
      "metadata": {},
      "outputs": [],
      "source": [
        "from ncbi_cloudblast_api.api_client import APIClient\n",
        "\n",
        "if not API_ADDRESS:\n",
        "    raise ValueError(\"Please set value for API_ADDRESS in the previous step.\")\n",
        "\n",
        "client=APIClient(API_ADDRESS)"
      ]
    },
    {
      "cell_type": "markdown",
      "metadata": {},
      "source": [
        "`NM_000558.5` is the mRNA for human hemoglobin subunit alpha 1 (*HBA1*)"
      ]
    },
    {
      "cell_type": "code",
      "execution_count": null,
      "metadata": {},
      "outputs": [],
      "source": [
        "query=\"NM_000558.5\"\n",
        "\n",
        "print (f'Running Blast search for: {query} ...')\n",
        "\n",
        "# \"search\" method will wait for the Blast search to complete\n",
        "# and then returns the result.\n",
        "res = client.search(accession=query)\n",
        "print (\"Done.\")"
      ]
    },
    {
      "cell_type": "markdown",
      "metadata": {},
      "source": [
        "## Show only the first (strongest) match for each organism."
      ]
    },
    {
      "cell_type": "code",
      "execution_count": null,
      "metadata": {},
      "outputs": [],
      "source": [
        "# A slice of search result for some selected fields\n",
        "df = res.as_dataframe()[[\"qaccver\", \"saccver\", \"pident\", \"length\", \"evalue\", \"bitscore\", \"staxid\", \"qstart\"]]"
      ]
    },
    {
      "cell_type": "code",
      "execution_count": null,
      "metadata": {},
      "outputs": [],
      "source": [
        "# First 20 HSP's (in default sort order)\n",
        "df.head()"
      ]
    },
    {
      "cell_type": "markdown",
      "metadata": {},
      "source": [
        "Number of unique organisms:"
      ]
    },
    {
      "cell_type": "code",
      "execution_count": null,
      "metadata": {},
      "outputs": [],
      "source": [
        "df.drop_duplicates(subset=\"staxid\", keep=\"first\")"
      ]
    },
    {
      "cell_type": "code",
      "execution_count": null,
      "metadata": {},
      "outputs": [],
      "source": [
        "df['staxid'].value_counts()"
      ]
    },
    {
      "cell_type": "markdown",
      "metadata": {},
      "source": [
        "Number of matches per taxonomic node."
      ]
    },
    {
      "cell_type": "code",
      "execution_count": null,
      "metadata": {},
      "outputs": [],
      "source": [
        "plt = df['staxid'].value_counts().plot.bar(rot=0)\n",
        "plt.set_ylabel(\"number\");\n",
        "plt.set_xlabel(\"tax_id\");\n",
        "plt.set_title(\"Number of matches per taxonomic node\");\n",
        "plt.set_xticks([]);"
      ]
    },
    {
      "cell_type": "markdown",
      "metadata": {},
      "source": [
        "Number of matches per subject sequence"
      ]
    },
    {
      "cell_type": "code",
      "execution_count": null,
      "metadata": {},
      "outputs": [],
      "source": [
        "plt = df['saccver'].value_counts().plot.bar(x='subject acc', y='number', rot=0)\n",
        "plt.set_ylabel(\"number\");\n",
        "plt.set_xlabel(\"subject acc\");\n",
        "plt.set_title(\"Number of matches per subject sequence\");\n",
        "plt.set_xticks([]);"
      ]
    },
    {
      "cell_type": "code",
      "execution_count": null,
      "metadata": {},
      "outputs": [],
      "source": [
        ""
      ]
    }
  ],
  "metadata": {
    "kernelspec": {
      "display_name": "Python 3",
      "language": "python",
      "name": "python3"
    },
    "language_info": {
      "codemirror_mode": {
        "name": "ipython",
        "version": 3
      },
      "file_extension": ".py",
      "mimetype": "text/x-python",
      "name": "python",
      "nbconvert_exporter": "python",
      "pygments_lexer": "ipython3",
      "version": "3.6.2"
    }
  },
  "nbformat": 4,
  "nbformat_minor": 0
}