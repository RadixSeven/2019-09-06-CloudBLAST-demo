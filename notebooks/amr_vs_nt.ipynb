{
 "cells": [
  {
   "cell_type": "markdown",
   "metadata": {},
   "source": [
    "# Blast Search Using fasta input"
   ]
  },
  {
   "cell_type": "markdown",
   "metadata": {},
   "source": [
    "## Installation\n",
    "First, install the the API library into your virtual environment:"
   ]
  },
  {
   "cell_type": "code",
   "execution_count": null,
   "metadata": {},
   "outputs": [],
   "source": [
    "%pip install --quiet ncbi-cloudblast-api"
   ]
  },
  {
   "cell_type": "markdown",
   "metadata": {},
   "source": [
    "For this demo, you also need to install `pandas` and `requests`:"
   ]
  },
  {
   "cell_type": "code",
   "execution_count": null,
   "metadata": {},
   "outputs": [],
   "source": [
    "%pip install --quiet pandas==0.24.2 requests"
   ]
  },
  {
   "cell_type": "markdown",
   "metadata": {},
   "source": [
    "## Before you start\n",
    "To use this libray, you must provide the address for a CloudBlast API service endpoint:"
   ]
  },
  {
   "cell_type": "code",
   "execution_count": null,
   "metadata": {},
   "outputs": [],
   "source": [
    "API_ADDRESS = \"35.230.185.250:5000\"  # set the API service address, e.g. \"35.245.159.177:5000\""
   ]
  },
  {
   "cell_type": "markdown",
   "metadata": {},
   "source": [
    "## Perform a Blast Search"
   ]
  },
  {
   "cell_type": "code",
   "execution_count": null,
   "metadata": {},
   "outputs": [],
   "source": [
    "from ncbi_cloudblast_api.api_client import APIClient\n",
    "\n",
    "if not API_ADDRESS:\n",
    "    raise ValueError(\"Please set value for API_ADDRESS in the previous step.\")\n",
    "\n",
    "client=APIClient(API_ADDRESS)"
   ]
  },
  {
   "cell_type": "code",
   "execution_count": null,
   "metadata": {},
   "outputs": [],
   "source": [
    "# Fetch the query fasta sequence data \n",
    "import requests\n",
    "fasta_seq = requests.get(\"https://ftp.ncbi.nlm.nih.gov/blast/demo/MH168512.fsa\").text\n",
    "\n",
    "print (\"Running Blast search for MH168512.fsa ...\")\n",
    "\n",
    "res = client.search(fasta=fasta_seq)\n",
    "\n",
    "print (\"Done\")"
   ]
  },
  {
   "cell_type": "code",
   "execution_count": null,
   "metadata": {},
   "outputs": [],
   "source": [
    "from pandas import DataFrame\n",
    "\n",
    "# A list of fields to get from the search result\n",
    "fields = [\"qaccver\", \"saccver\", \"pident\", \"length\", \"evalue\", \"bitscore\", \"staxid\"]\n",
    "\n",
    "# A slice of search result for the above fields\n",
    "df = res.as_dataframe()[fields]\n",
    "\n",
    "# Show the top 20 result\n",
    "df.head(20)"
   ]
  }
 ],
 "metadata": {
  "kernelspec": {
   "display_name": "Python 3",
   "language": "python",
   "name": "python3"
  },
  "language_info": {
   "codemirror_mode": {
    "name": "ipython",
    "version": 3
   },
   "file_extension": ".py",
   "mimetype": "text/x-python",
   "name": "python",
   "nbconvert_exporter": "python",
   "pygments_lexer": "ipython3",
   "version": "3.6.2"
  }
 },
 "nbformat": 4,
 "nbformat_minor": 2
}
