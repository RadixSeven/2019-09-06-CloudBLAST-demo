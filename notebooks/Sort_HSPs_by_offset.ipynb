{
 "cells": [
  {
   "cell_type": "markdown",
   "metadata": {},
   "source": [
    "# Sort HSPs by Query Offset\n",
    "\n",
    "This notebook shows how to use Pandas/Dataframes to sort the HSPs by the query (or subject) offset."
   ]
  },
  {
   "cell_type": "markdown",
   "metadata": {},
   "source": [
    "## Installation\n",
    "First, install the the API library into your virtual environment:"
   ]
  },
  {
   "cell_type": "code",
   "execution_count": null,
   "metadata": {},
   "outputs": [],
   "source": [
    "%pip install --quiet ncbi-cloudblast-api"
   ]
  },
  {
   "cell_type": "markdown",
   "metadata": {},
   "source": [
    "For this demo, you also need to install `pandas`:"
   ]
  },
  {
   "cell_type": "code",
   "execution_count": null,
   "metadata": {},
   "outputs": [],
   "source": [
    "%pip install --quiet pandas==0.24.2"
   ]
  },
  {
   "cell_type": "markdown",
   "metadata": {},
   "source": [
    "## Before you start\n",
    "To use this libray, you must provide the address for a CloudBlast API service endpoint:"
   ]
  },
  {
   "cell_type": "code",
   "execution_count": null,
   "metadata": {},
   "outputs": [],
   "source": [
    "API_ADDRESS = \"\"  # set the API service address, e.g. \"35.245.159.177:5000\""
   ]
  },
  {
   "cell_type": "markdown",
   "metadata": {},
   "source": [
    "## Perform a Blast Search"
   ]
  },
  {
   "cell_type": "code",
   "execution_count": null,
   "metadata": {},
   "outputs": [],
   "source": [
    "from ncbi_cloudblast_api.api_client import APIClient\n",
    "\n",
    "if not API_ADDRESS:\n",
    "    raise ValueError(\"Please set value for API_ADDRESS in the previous step.\")\n",
    "\n",
    "client=APIClient(API_ADDRESS)"
   ]
  },
  {
   "cell_type": "code",
   "execution_count": null,
   "metadata": {},
   "outputs": [],
   "source": [
    "query=\"u93237\"\n",
    "\n",
    "print (f'Running Blast search for: {query} ...')\n",
    "\n",
    "# \"search\" method will wait for the Blast search to complete\n",
    "# and then returns the result.\n",
    "res = client.search(accession=query)\n",
    "print (\"Done.\")"
   ]
  },
  {
   "cell_type": "markdown",
   "metadata": {},
   "source": [
    "## Sort Search Result using pandas.DataFrame"
   ]
  },
  {
   "cell_type": "code",
   "execution_count": null,
   "metadata": {},
   "outputs": [],
   "source": [
    "from pandas import DataFrame\n",
    "\n",
    "# A list of fields to get from the search result\n",
    "fields = [\"qaccver\", \"saccver\", \"pident\", \"length\", \"mismatch\",\n",
    "          \"gapopen\", \"qstart\", \"qend\", \"sstart\", \"send\",\n",
    "          \"evalue\", \"bitscore\"]\n",
    "\n",
    "# A slice of search result for the above fields\n",
    "df = res.as_dataframe()[fields]"
   ]
  },
  {
   "cell_type": "code",
   "execution_count": null,
   "metadata": {},
   "outputs": [],
   "source": [
    "# First 20 HSP's (in default sort order)\n",
    "df.head(20)"
   ]
  },
  {
   "cell_type": "code",
   "execution_count": null,
   "metadata": {},
   "outputs": [],
   "source": [
    "# Sort by subject sequence accession.version and query start position\n",
    "df.sort_values([\"saccver\", \"qstart\"])"
   ]
  }
 ],
 "metadata": {
  "kernelspec": {
   "display_name": "Python 3",
   "language": "python",
   "name": "python3"
  },
  "language_info": {
   "codemirror_mode": {
    "name": "ipython",
    "version": 3
   },
   "file_extension": ".py",
   "mimetype": "text/x-python",
   "name": "python",
   "nbconvert_exporter": "python",
   "pygments_lexer": "ipython3",
   "version": "3.6.2"
  }
 },
 "nbformat": 4,
 "nbformat_minor": 2
}
