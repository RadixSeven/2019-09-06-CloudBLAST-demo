{
 "cells": [
  {
   "cell_type": "markdown",
   "metadata": {},
   "source": [
    "# CloudBlast API library tutorial\n",
    "\n",
    "In this notebook, we are going to show you how to use CloudBlast API  library to perform a Blast search."
   ]
  },
  {
   "cell_type": "markdown",
   "metadata": {},
   "source": [
    "## Installation\n",
    "First, install the the API library into your virtual environment:"
   ]
  },
  {
   "cell_type": "code",
   "execution_count": 1,
   "metadata": {},
   "outputs": [
    {
     "name": "stdout",
     "output_type": "stream",
     "text": [
      "Note: you may need to restart the kernel to use updated packages.\n"
     ]
    }
   ],
   "source": [
    "%pip install --quiet ncbi-cloudblast-api"
   ]
  },
  {
   "cell_type": "markdown",
   "metadata": {},
   "source": [
    "## Before you start\n",
    "To use this libray, you must provide the address for a CloudBlast API service endpoint:"
   ]
  },
  {
   "cell_type": "code",
   "execution_count": 2,
   "metadata": {},
   "outputs": [],
   "source": [
    "API_ADDRESS = '35.221.15.226:5000'"
   ]
  },
  {
   "cell_type": "markdown",
   "metadata": {},
   "source": [
    "## List supported Blast databases"
   ]
  },
  {
   "cell_type": "code",
   "execution_count": 3,
   "metadata": {},
   "outputs": [
    {
     "name": "stdout",
     "output_type": "stream",
     "text": [
      "Database name: BLAST-NT DB\n"
     ]
    }
   ],
   "source": [
    "import json\n",
    "import time\n",
    "from ncbi_cloudblast_api.api_client import APIClient\n",
    "\n",
    "if not API_ADDRESS:\n",
    "    raise ValueError(\"Please set value for API_ADDRESS in the previous step.\")\n",
    "\n",
    "client=APIClient(API_ADDRESS)\n",
    "\n",
    "res = client.dblist()\n",
    "for db in res.db:\n",
    "  print (f\"Database name: {db.name}\")"
   ]
  },
  {
   "cell_type": "markdown",
   "metadata": {},
   "source": [
    "## Perform a Blast search\n",
    "Let's first define a few helper fucntions:"
   ]
  },
  {
   "cell_type": "code",
   "execution_count": 4,
   "metadata": {},
   "outputs": [],
   "source": [
    "def print_result(res):\n",
    "    '''Print search result\n",
    "\n",
    "    Paramter:\n",
    "      res (Resultset): Blast search result\n",
    "    '''\n",
    "    if len(res.errors):\n",
    "        print(f'Search job finishied with status: FAILED')\n",
    "        for error in res.errors:\n",
    "            print(f'Error message: {error}')\n",
    "    else:\n",
    "        print(f'Search job finishied with status: SUCCEEDED')\n",
    "        print(f'Number of alignments: {len(res.alignments)}')"
   ]
  },
  {
   "cell_type": "markdown",
   "metadata": {},
   "source": [
    "Then let's try a Blast search with the sequence `NM_001234.5`:"
   ]
  },
  {
   "cell_type": "code",
   "execution_count": 5,
   "metadata": {},
   "outputs": [
    {
     "name": "stdout",
     "output_type": "stream",
     "text": [
      "Running Blast search for: NM_001234.5 ...\n",
      "Search job finishied with status: SUCCEEDED\n",
      "Number of alignments: 212\n"
     ]
    }
   ],
   "source": [
    "query=\"NM_001234.5\"\n",
    "\n",
    "print (f'Running Blast search for: {query} ...')\n",
    "\n",
    "# \"search\" method will wait for the Blast search to complete\n",
    "# and then returns the result.\n",
    "res = client.search(accession=query)\n",
    "\n",
    "print_result(res)"
   ]
  },
  {
   "cell_type": "markdown",
   "metadata": {},
   "source": [
    "You can also the `submit` method, which will return immediately with a job_id, which you can use to retrieve search status and result later."
   ]
  },
  {
   "cell_type": "code",
   "execution_count": 6,
   "metadata": {},
   "outputs": [
    {
     "name": "stdout",
     "output_type": "stream",
     "text": [
      "Running Blast search for: NM_001234.5 ...\n",
      "Search job finishied with status: SUCCEEDED\n",
      "Number of alignments: 212\n"
     ]
    }
   ],
   "source": [
    "print (f'Running Blast search for: {query} ...')\n",
    "\n",
    "job_id = client.submit(accession=query)\n",
    "\n",
    "# one of 0 (RUNNING), 1 (SUCCEEDED) OR 2 (FAILED)\n",
    "status = client.status(job_id)\n",
    "\n",
    "# wait for job to finish and then return the result\n",
    "res = client.wait(job_id)\n",
    "\n",
    "print_result(res)"
   ]
  },
  {
   "cell_type": "markdown",
   "metadata": {},
   "source": [
    "And you can also search by using the sequence itself:"
   ]
  },
  {
   "cell_type": "code",
   "execution_count": 7,
   "metadata": {},
   "outputs": [
    {
     "name": "stdout",
     "output_type": "stream",
     "text": [
      "Running Blast search using verbatim sequence ...\n",
      "Search job finishied with status: SUCCEEDED\n",
      "Number of alignments: 212\n"
     ]
    }
   ],
   "source": [
    "# Actual sequence of NM_001234.5\n",
    "seq=\"\"\"\n",
    "CTCTGCCCCAAGTATTTTCAGCCCCAGCCGGCCACACAGCTCGGATCTCCTCCTGTGGATCCCCCCAGCT\n",
    "CTGCGATGATGGCAGAAGAGCACACAGATCTCGAGGCCCAGATCGTCAAGGATATCCACTGCAAGGAGAT\n",
    "TGACCTGGTGAACCGAGACCCCAAGAACATTAACGAGGACATAGTCAAGGTGGATTTTGAAGACGTGATC\n",
    "GCAGAGCCTGTGGGCACCTACAGCTTTGACGGCGTGTGGAAGGTGAGCTACACCACCTTCACTGTCTCCA\n",
    "AGTACTGGTGCTACCGTCTGTTGTCCACGCTGCTGGGCGTCCCACTGGCCCTGCTCTGGGGCTTCCTGTT\n",
    "CGCCTGCATCTCCTTCTGCCACATCTGGGCGGTGGTGCCATGCATTAAGAGCTACCTGATCGAGATCCAG\n",
    "TGCATCAGCCACATCTACTCACTCTGCATCCGCACCTTCTGCAACCCACTCTTCGCGGCCCTGGGCCAGG\n",
    "TCTGCAGCAGCATCAAGGTGGTGCTGCGGAAGGAGGTCTAAAGCCAGGGACTGCTCCATACCCCATGATG\n",
    "GAGCACACGGTGTAGGGAAGCCAGAAAGAAAAGACGGCCCAGCCACAGAAGCACAATGGCCCTTCGCTCT\n",
    "CCCCCAGCCCCACCATGATGCCCCCATGCCTGGGCGTGGGGGAAGATCATTTGCCAAGAGGCAGCTACTG\n",
    "CAAGTCTTTGCGTTCACTTGTACTGTAACAACATAAACCAGCACGCGGTTCCCACCCGGGGCCAACCTCT\n",
    "CCACGCGCACTCAGGAAAGTGACCAGTGACCACTGGCGTTAGGAAGGTGGCTCCAGTAAAGGGTTTTGGC\n",
    "TGCATTTGGGGAATGCTGCATTTTGTTCGTGCCTGTAAGATTGGTTTGTGTCCTGACCAGCTCCAAAAAT\n",
    "ATACTTCACTGCCCTGAAAAACAGACACAGGGAGAGTTGGTTGTCTCTTCACTTGGCCAAATGTAAGTGA\n",
    "AGAACAGAGTCTTTTTCTTCTTCGGATTCTATTGTTTGCTGGAACCGTACACGTTCCTTGGAAGATCATG\n",
    "TTTAAGTGACTCCTGTTGCCTGAGCACAAAAATGGGCACCAATGGAGGAAAATGACCCTTGGGCTGGCAG\n",
    "GGGCAGTGACCCTTCCAGGGTACCACTGAGGGAAGGGCCTGGGTTCAAGCCTCCCGGAACCTCCCCTTTG\n",
    "GCTAACCGAGCCCCTGAAATGCCCAGTACTGCCATTTGACATGAGGGTACCTTCGCCCTCAGGAGATGTG\n",
    "ACGAAGGAACAAGGTCTAATTTGTGCGTGTGTGGACTCACTATGGAAATAAAATGCAGTAGAAAGA\"\"\"\n",
    "\n",
    "print (f'Running Blast search using verbatim sequence ...')\n",
    "\n",
    "res = client.search(verbatim_seq=query)\n",
    "\n",
    "print_result(res)"
   ]
  }
 ],
 "metadata": {
  "colab": {
   "collapsed_sections": [],
   "name": "api_demo.ipynb",
   "provenance": [],
   "version": "0.3.2"
  },
  "kernelspec": {
   "display_name": "Python 3",
   "language": "python",
   "name": "python3"
  },
  "language_info": {
   "codemirror_mode": {
    "name": "ipython",
    "version": 3
   },
   "file_extension": ".py",
   "mimetype": "text/x-python",
   "name": "python",
   "nbconvert_exporter": "python",
   "pygments_lexer": "ipython3",
   "version": "3.6.2"
  }
 },
 "nbformat": 4,
 "nbformat_minor": 1
}
